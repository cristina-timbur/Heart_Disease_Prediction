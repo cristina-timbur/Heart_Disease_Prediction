{
 "cells": [
  {
   "cell_type": "code",
   "execution_count": 73,
   "id": "3b321f2b",
   "metadata": {},
   "outputs": [
    {
     "name": "stderr",
     "output_type": "stream",
     "text": [
      "[nltk_data] Downloading package stopwords to C:\\Users\\Timbur\n",
      "[nltk_data]     Dinu\\AppData\\Roaming\\nltk_data...\n",
      "[nltk_data]   Package stopwords is already up-to-date!\n"
     ]
    }
   ],
   "source": [
    "import nltk\n",
    "from nltk.tokenize import word_tokenize\n",
    "from os.path import join\n",
    "import re\n",
    "from nltk.probability import FreqDist\n",
    "from nltk.stem import PorterStemmer\n",
    "nltk.download('stopwords')\n",
    "from nltk.corpus import stopwords "
   ]
  },
  {
   "cell_type": "code",
   "execution_count": 74,
   "id": "61d50804",
   "metadata": {},
   "outputs": [],
   "source": [
    "class TextNormalize():\n",
    "    def __init__(self, X):\n",
    "        self.x = X\n",
    "        \n",
    "    def fit(self, X, y = None):\n",
    "        return self\n",
    "    \n",
    "    def transform(self, X, y = None):\n",
    "        for i in range(len(X)):\n",
    "            X[i] = X[i].replace('\\n',' ')\n",
    "            X[i] = X[i].replace('\\r',' ')\n",
    "            X[i] = X[i].lower()\n",
    "            X[i] = ' '.join(re.findall('[a-z]+', X[i]))\n",
    "        return X"
   ]
  },
  {
   "cell_type": "code",
   "execution_count": 75,
   "id": "6c5f3690",
   "metadata": {},
   "outputs": [],
   "source": [
    "X = ['10.1\\n\\n10.2\\n\\n10.8\\n\\n10.4\\n\\n10.5\\n\\n11080CH10\\n\\nCell Cycle\\n\\nM Phase\\n\\nSignificance of\\n\\nMitosis\\n\\nMeiosis\\n\\nSignificance of\\n\\nMeiosis\\n\\nCHAPTER 1 0\\n\\nCELL CYCLE AND CELL DIVISION\\n\\nAre you aware that all organisms, even the largest, start their life from a\\nsingle cell? You may wonder how a single cell then goes on to form such\\nlarge organisms. Growth and reproduction are characteristics of cells,\\nindeed of all living organisms. All cells reproduce by dividing into two,\\nwith each parental cell giving rise to two daughter cells each time they\\ndivide. These newly formed daughter cells can themselves grow and divide,\\ngiving rise to a new cell population that is formed by the growth and\\ndivision of a single parental cell and its progeny. In other words, such\\ncycles of growth and division allow a single cell to form a structure\\nconsisting of millions of cells.\\n\\n10. 1 CELL CYCLE\\n\\nCell division is a very important process in all living organisms. During\\nthe division of a cell, DNA replication and cell growth also take place. All\\nthese processes, i.e., cell division, DNA replication, and cell growth, hence,\\nhave to take place in a coordinated way to ensure correct division and\\nformation of progeny cells containing intact genomes. The sequence of\\nevents by which a cell duplicates its genome, synthesises the other\\nconstituents of the cell and eventually divides into two daughter cells is\\ntermed cell cycle. Although cell growth (in terms of cytoplasmic increase)\\nis a continuous process, DNA synthesis occurs only during one speciﬁc\\nstage in the cell cycle. The replicated chromosomes (DNA) are then\\ndistributed to daughter nuclei by a complex series of events during cell\\ndivision. These events are themselves under genetic control.\\n\\n2019-2020',\n",
    "    '164\\n\\nYou have studied\\nmitosis in onion root\\ntip cells. It has 16\\nchromosomes in\\neach cell. Can you\\ntell how many\\nchromosomes will\\nthe cell have at G1\\nphase, after S phase,\\nand after M phase?\\nAlso, what will be the\\nDNA content of the\\ncells at G1, after S\\nand at G2, if the\\ncontent after M\\nphase is 2C?\\n\\nBiowGY\\n\\nSome cells in the adult animals do not appear to exhibit division (e.g.,\\nheart cells) and many other cells divide only occasionally, as needed to\\nreplace cells that have been lost because of injury or cell death. These\\ncells that do not divide further exit G1 phase to enter an inactive stage\\ncalled quiescent stage (Go) of the cell cycle. Cells in this stage remain\\nmetabolically active but no longer proliferate unless called on to do so\\ndepending on the requirement of the organism.\\n\\nIn animals, mitotic cell division is only seen in the diploid somatic\\ncells. However, there are few exceptions to this where haploid cells divide\\nby mitosis, for example, male honey bees. Against this, the plants can\\nshow mitotic divisions in both haploid and diploid cells. From your\\nrecollection of examples of alternation of generations in plants (Chapter 3)\\nidentify plant species and stages at which mitosis is seen in haploid cells.\\n\\n10.2 M PHASE\\n\\nThis is the most dramatic period of the cell cycle, involving a major\\nreorganisation of virtually all components of the cell. Since the number of\\nchromosomes in the parent and progeny cells is the same, it is also called as\\nequational division. Though for convenience mitosis has been divided\\ninto four stages of nuclear division (karyokinesis), it is very essential to\\nunderstand that cell division is a progressive process and very clear-cut\\nlines cannot be drawn between various stages. Karyokinesis involves\\nfollowing four stages:\\n\\n0 Prophase\\no Metaphase\\no Anaphase\\no Telophase\\n\\n1 0.2.1 Prophase\\n\\nProphase which is the first stage of karyokinesis of mitosis follows the\\nS and G2 phases of interphase. In the S and G2 phases the new DNA\\nmolecules formed are not distinct but intertwined. Prophase is marked\\nby the initiation of condensation of chromosomal material. The\\nchromosomal material becomes untangled during the process of\\nchromatin condensation (Figure 10.2 a). The centrosome, which had\\nundergone duplication during S phase of interphase, now begins to move\\ntowards opposite poles of the cell. The completion of prophase can thus\\nbe marked by the following characteristic events:\\n\\n0 Chromosomal material condenses to form compact mitotic\\nchromosomes. Chromosomes are seen to be composed of two\\nchromatids attached together at the centromere.\\n\\nO Centrosome which had undergone duplication during interphase,\\nbegins to move towards opposite poles of the cell. Each centrosome\\nradiates out microtubules called asters. The two asters together\\n\\nwith spindle fibres forms mitotic apparatus.\\n\\n2019-2020',\n",
    "    'TRANSPORT IN PLANTS\\n\\nmembrane. This movement is dependent on the gradient. The apoplast\\ndoes not provide any barrier to water movement and water movement is\\nthrough mass ﬂow. As water evaporates into the intercellular spaces or\\nthe atmosphere, tension develop in the continuous stream of water in the\\napoplast, hence mass ﬂow of water occurs due to the adhesive and cohesive\\nproperties of water.\\n\\nThe symplastic system is the system of interconnected protoplasts.\\nNeighbouring cells are connected through cytoplasmic strands that\\nextend through plasmodesmata. During symplastic movement, the water\\ntravels through the cells — their cytoplasm; intercellular movement is\\nthrough the plasmodesmata. Water has to enter the cells through the\\ncell membrane, hence the movement is relatively slower. Movement is again\\ndown a potential gradient. Symplastic movement may be aided by\\ncytoplasmic streaming. You may have observed cytoplasmic streaming\\nin cells of the Hydrilla leaf; the movement of chloroplast due to streaming\\nis easily visible.\\n\\nMost of the water ﬂow in the roots occurs via the apoplast since the\\ncortical cells are loosely packed, and hence offer no resistance to water\\nmovement. However, the inner boundary of the cortex, the endodermis,\\nis impervious to water because of a band of suberised matrix called the\\ncasparian strip. Water molecules are unable to penetrate the layer, so\\nthey are directed to wall regions that are not suberised, into the cells\\nproper through the membranes. The water then moves through the\\nsymplast and again crosses a membrane to reach the cells of the xylem.\\nThe movement of water through the root layers is ultimately symplastic\\nin the endodermis. This is the only\\nway water and other solutes can\\nenter the vascular cylinder.\\n\\nOnce inside the xylem, water is\\nagain free to move between cells as\\nwell as through them. In young\\nroots, water enters directly into the\\nxylem vessels and / or tracheids.\\nThese are non-living conduits and\\nso are parts of the apoplast. The\\npath of water and mineral ions into\\nthe root vascular system is\\nsummarised in Figure 1 1.7.\\n\\nSome plants have additional\\n\\nSymplastic\\n\\n185\\n\\nEndodermis Xylem\\n\\n \\n   \\n  \\n\\nCasp arian Phloem\\n\\n    \\n\\nA o lastic -\\nstructures associated with them p pr; th Cortex strip . 1\\nthat help in water (and mineral) Perlcyc e\\nabsorption. A mycorrhiza iS a Figure 11.7 Symplastic and apoplastic pathways of\\n\\nsymbiotic association of a fungus\\nwith a root system. The fungal\\n\\nroots\\n\\nwater and ion absorption and movement in']"
   ]
  },
  {
   "cell_type": "code",
   "execution_count": 76,
   "id": "329e7840",
   "metadata": {},
   "outputs": [
    {
     "data": {
      "text/plain": [
       "['ch cell cycle m phase significance of mitosis meiosis significance of meiosis chapter cell cycle and cell division are you aware that all organisms even the largest start their life from a single cell you may wonder how a single cell then goes on to form such large organisms growth and reproduction are characteristics of cells indeed of all living organisms all cells reproduce by dividing into two with each parental cell giving rise to two daughter cells each time they divide these newly formed daughter cells can themselves grow and divide giving rise to a new cell population that is formed by the growth and division of a single parental cell and its progeny in other words such cycles of growth and division allow a single cell to form a structure consisting of millions of cells cell cycle cell division is a very important process in all living organisms during the division of a cell dna replication and cell growth also take place all these processes i e cell division dna replication and cell growth hence have to take place in a coordinated way to ensure correct division and formation of progeny cells containing intact genomes the sequence of events by which a cell duplicates its genome synthesises the other constituents of the cell and eventually divides into two daughter cells is termed cell cycle although cell growth in terms of cytoplasmic increase is a continuous process dna synthesis occurs only during one speci c stage in the cell cycle the replicated chromosomes dna are then distributed to daughter nuclei by a complex series of events during cell division these events are themselves under genetic control',\n",
       " 'you have studied mitosis in onion root tip cells it has chromosomes in each cell can you tell how many chromosomes will the cell have at g phase after s phase and after m phase also what will be the dna content of the cells at g after s and at g if the content after m phase is c biowgy some cells in the adult animals do not appear to exhibit division e g heart cells and many other cells divide only occasionally as needed to replace cells that have been lost because of injury or cell death these cells that do not divide further exit g phase to enter an inactive stage called quiescent stage go of the cell cycle cells in this stage remain metabolically active but no longer proliferate unless called on to do so depending on the requirement of the organism in animals mitotic cell division is only seen in the diploid somatic cells however there are few exceptions to this where haploid cells divide by mitosis for example male honey bees against this the plants can show mitotic divisions in both haploid and diploid cells from your recollection of examples of alternation of generations in plants chapter identify plant species and stages at which mitosis is seen in haploid cells m phase this is the most dramatic period of the cell cycle involving a major reorganisation of virtually all components of the cell since the number of chromosomes in the parent and progeny cells is the same it is also called as equational division though for convenience mitosis has been divided into four stages of nuclear division karyokinesis it is very essential to understand that cell division is a progressive process and very clear cut lines cannot be drawn between various stages karyokinesis involves following four stages prophase o metaphase o anaphase o telophase prophase prophase which is the first stage of karyokinesis of mitosis follows the s and g phases of interphase in the s and g phases the new dna molecules formed are not distinct but intertwined prophase is marked by the initiation of condensation of chromosomal material the chromosomal material becomes untangled during the process of chromatin condensation figure a the centrosome which had undergone duplication during s phase of interphase now begins to move towards opposite poles of the cell the completion of prophase can thus be marked by the following characteristic events chromosomal material condenses to form compact mitotic chromosomes chromosomes are seen to be composed of two chromatids attached together at the centromere o centrosome which had undergone duplication during interphase begins to move towards opposite poles of the cell each centrosome radiates out microtubules called asters the two asters together with spindle fibres forms mitotic apparatus',\n",
       " 'transport in plants membrane this movement is dependent on the gradient the apoplast does not provide any barrier to water movement and water movement is through mass ow as water evaporates into the intercellular spaces or the atmosphere tension develop in the continuous stream of water in the apoplast hence mass ow of water occurs due to the adhesive and cohesive properties of water the symplastic system is the system of interconnected protoplasts neighbouring cells are connected through cytoplasmic strands that extend through plasmodesmata during symplastic movement the water travels through the cells their cytoplasm intercellular movement is through the plasmodesmata water has to enter the cells through the cell membrane hence the movement is relatively slower movement is again down a potential gradient symplastic movement may be aided by cytoplasmic streaming you may have observed cytoplasmic streaming in cells of the hydrilla leaf the movement of chloroplast due to streaming is easily visible most of the water ow in the roots occurs via the apoplast since the cortical cells are loosely packed and hence offer no resistance to water movement however the inner boundary of the cortex the endodermis is impervious to water because of a band of suberised matrix called the casparian strip water molecules are unable to penetrate the layer so they are directed to wall regions that are not suberised into the cells proper through the membranes the water then moves through the symplast and again crosses a membrane to reach the cells of the xylem the movement of water through the root layers is ultimately symplastic in the endodermis this is the only way water and other solutes can enter the vascular cylinder once inside the xylem water is again free to move between cells as well as through them in young roots water enters directly into the xylem vessels and or tracheids these are non living conduits and so are parts of the apoplast the path of water and mineral ions into the root vascular system is summarised in figure some plants have additional symplastic endodermis xylem casp arian phloem a o lastic structures associated with them p pr th cortex strip that help in water and mineral perlcyc e absorption a mycorrhiza is a figure symplastic and apoplastic pathways of symbiotic association of a fungus with a root system the fungal roots water and ion absorption and movement in']"
      ]
     },
     "execution_count": 76,
     "metadata": {},
     "output_type": "execute_result"
    }
   ],
   "source": [
    "X_normalized = TextNormalize(X).transform(X)\n",
    "X_normalized"
   ]
  },
  {
   "cell_type": "code",
   "execution_count": 77,
   "id": "69527cf7",
   "metadata": {},
   "outputs": [],
   "source": [
    "class WordsExtractor():\n",
    "    def __init__(self, language = 'english'):\n",
    "        self.stop_words = stopwords.words(language)\n",
    "        self.hapaxes = []\n",
    "        \n",
    "    def fit(self, X, y = None):\n",
    "        for i in range(len(X)):\n",
    "            self.hapaxes.append(FreqDist(word_tokenize(X[i])).hapaxes())\n",
    "        return self\n",
    "    \n",
    "    \n",
    "    def transform(self, X, y = None):\n",
    "        for i in range(len(X)):\n",
    "            X[i] = ' '.join([word for word in word_tokenize(X[i]) \n",
    "                             if word not in self.stop_words])\n",
    "            X[i] = ' '.join([word for word in word_tokenize(X[i]) \n",
    "                             if word not in self.hapaxes])\n",
    "        return X"
   ]
  },
  {
   "cell_type": "code",
   "execution_count": 78,
   "id": "9740cb54",
   "metadata": {},
   "outputs": [
    {
     "data": {
      "text/plain": [
       "['ch cell cycle phase significance mitosis meiosis significance meiosis chapter cell cycle cell division aware organisms even largest start life single cell may wonder single cell goes form large organisms growth reproduction characteristics cells indeed living organisms cells reproduce dividing two parental cell giving rise two daughter cells time divide newly formed daughter cells grow divide giving rise new cell population formed growth division single parental cell progeny words cycles growth division allow single cell form structure consisting millions cells cell cycle cell division important process living organisms division cell dna replication cell growth also take place processes e cell division dna replication cell growth hence take place coordinated way ensure correct division formation progeny cells containing intact genomes sequence events cell duplicates genome synthesises constituents cell eventually divides two daughter cells termed cell cycle although cell growth terms cytoplasmic increase continuous process dna synthesis occurs one speci c stage cell cycle replicated chromosomes dna distributed daughter nuclei complex series events cell division events genetic control',\n",
       " 'studied mitosis onion root tip cells chromosomes cell tell many chromosomes cell g phase phase phase also dna content cells g g content phase c biowgy cells adult animals appear exhibit division e g heart cells many cells divide occasionally needed replace cells lost injury cell death cells divide exit g phase enter inactive stage called quiescent stage go cell cycle cells stage remain metabolically active longer proliferate unless called depending requirement organism animals mitotic cell division seen diploid somatic cells however exceptions haploid cells divide mitosis example male honey bees plants show mitotic divisions haploid diploid cells recollection examples alternation generations plants chapter identify plant species stages mitosis seen haploid cells phase dramatic period cell cycle involving major reorganisation virtually components cell since number chromosomes parent progeny cells also called equational division though convenience mitosis divided four stages nuclear division karyokinesis essential understand cell division progressive process clear cut lines drawn various stages karyokinesis involves following four stages prophase metaphase anaphase telophase prophase prophase first stage karyokinesis mitosis follows g phases interphase g phases new dna molecules formed distinct intertwined prophase marked initiation condensation chromosomal material chromosomal material becomes untangled process chromatin condensation figure centrosome undergone duplication phase interphase begins move towards opposite poles cell completion prophase thus marked following characteristic events chromosomal material condenses form compact mitotic chromosomes chromosomes seen composed two chromatids attached together centromere centrosome undergone duplication interphase begins move towards opposite poles cell centrosome radiates microtubules called asters two asters together spindle fibres forms mitotic apparatus',\n",
       " 'transport plants membrane movement dependent gradient apoplast provide barrier water movement water movement mass ow water evaporates intercellular spaces atmosphere tension develop continuous stream water apoplast hence mass ow water occurs due adhesive cohesive properties water symplastic system system interconnected protoplasts neighbouring cells connected cytoplasmic strands extend plasmodesmata symplastic movement water travels cells cytoplasm intercellular movement plasmodesmata water enter cells cell membrane hence movement relatively slower movement potential gradient symplastic movement may aided cytoplasmic streaming may observed cytoplasmic streaming cells hydrilla leaf movement chloroplast due streaming easily visible water ow roots occurs via apoplast since cortical cells loosely packed hence offer resistance water movement however inner boundary cortex endodermis impervious water band suberised matrix called casparian strip water molecules unable penetrate layer directed wall regions suberised cells proper membranes water moves symplast crosses membrane reach cells xylem movement water root layers ultimately symplastic endodermis way water solutes enter vascular cylinder inside xylem water free move cells well young roots water enters directly xylem vessels tracheids non living conduits parts apoplast path water mineral ions root vascular system summarised figure plants additional symplastic endodermis xylem casp arian phloem lastic structures associated p pr th cortex strip help water mineral perlcyc e absorption mycorrhiza figure symplastic apoplastic pathways symbiotic association fungus root system fungal roots water ion absorption movement']"
      ]
     },
     "execution_count": 78,
     "metadata": {},
     "output_type": "execute_result"
    }
   ],
   "source": [
    "X_clean = WordsExtractor('english').transform(X)\n",
    "X_clean"
   ]
  },
  {
   "cell_type": "code",
   "execution_count": 79,
   "id": "2c928890",
   "metadata": {},
   "outputs": [],
   "source": [
    "class ApplyStemmer():\n",
    "    def __init__(self, stemmer):\n",
    "        self.stemmer = stemmer\n",
    "        \n",
    "    def fit(self, X, y = None):\n",
    "        return self\n",
    "    \n",
    "    def transform(self, X, y = None):\n",
    "        for i in range(len(X)):\n",
    "            X[i] = ' '.join([self.stemmer.stem(word) for word in word_tokenize(X[i])])\n",
    "        return X"
   ]
  },
  {
   "cell_type": "code",
   "execution_count": 80,
   "id": "1e13f3b6",
   "metadata": {},
   "outputs": [],
   "source": [
    "porter = PorterStemmer()"
   ]
  },
  {
   "cell_type": "code",
   "execution_count": 81,
   "id": "4a54a3d7",
   "metadata": {},
   "outputs": [
    {
     "data": {
      "text/plain": [
       "['ch cell cycl phase signific mitosi meiosi signific meiosi chapter cell cycl cell divis awar organ even largest start life singl cell may wonder singl cell goe form larg organ growth reproduct characterist cell inde live organ cell reproduc divid two parent cell give rise two daughter cell time divid newli form daughter cell grow divid give rise new cell popul form growth divis singl parent cell progeni word cycl growth divis allow singl cell form structur consist million cell cell cycl cell divis import process live organ divis cell dna replic cell growth also take place process e cell divis dna replic cell growth henc take place coordin way ensur correct divis format progeni cell contain intact genom sequenc event cell duplic genom synthesis constitu cell eventu divid two daughter cell term cell cycl although cell growth term cytoplasm increas continu process dna synthesi occur one speci c stage cell cycl replic chromosom dna distribut daughter nuclei complex seri event cell divis event genet control',\n",
       " 'studi mitosi onion root tip cell chromosom cell tell mani chromosom cell g phase phase phase also dna content cell g g content phase c biowgi cell adult anim appear exhibit divis e g heart cell mani cell divid occasion need replac cell lost injuri cell death cell divid exit g phase enter inact stage call quiescent stage go cell cycl cell stage remain metabol activ longer prolifer unless call depend requir organ anim mitot cell divis seen diploid somat cell howev except haploid cell divid mitosi exampl male honey bee plant show mitot divis haploid diploid cell recollect exampl altern gener plant chapter identifi plant speci stage mitosi seen haploid cell phase dramat period cell cycl involv major reorganis virtual compon cell sinc number chromosom parent progeni cell also call equat divis though conveni mitosi divid four stage nuclear divis karyokinesi essenti understand cell divis progress process clear cut line drawn variou stage karyokinesi involv follow four stage prophas metaphas anaphas telophas prophas prophas first stage karyokinesi mitosi follow g phase interphas g phase new dna molecul form distinct intertwin prophas mark initi condens chromosom materi chromosom materi becom untangl process chromatin condens figur centrosom undergon duplic phase interphas begin move toward opposit pole cell complet prophas thu mark follow characterist event chromosom materi condens form compact mitot chromosom chromosom seen compos two chromatid attach togeth centromer centrosom undergon duplic interphas begin move toward opposit pole cell centrosom radiat microtubul call aster two aster togeth spindl fibr form mitot apparatu',\n",
       " 'transport plant membran movement depend gradient apoplast provid barrier water movement water movement mass ow water evapor intercellular space atmospher tension develop continu stream water apoplast henc mass ow water occur due adhes cohes properti water symplast system system interconnect protoplast neighbour cell connect cytoplasm strand extend plasmodesmata symplast movement water travel cell cytoplasm intercellular movement plasmodesmata water enter cell cell membran henc movement rel slower movement potenti gradient symplast movement may aid cytoplasm stream may observ cytoplasm stream cell hydrilla leaf movement chloroplast due stream easili visibl water ow root occur via apoplast sinc cortic cell loos pack henc offer resist water movement howev inner boundari cortex endodermi impervi water band suberis matrix call casparian strip water molecul unabl penetr layer direct wall region suberis cell proper membran water move symplast cross membran reach cell xylem movement water root layer ultim symplast endodermi way water solut enter vascular cylind insid xylem water free move cell well young root water enter directli xylem vessel tracheid non live conduit part apoplast path water miner ion root vascular system summaris figur plant addit symplast endodermi xylem casp arian phloem lastic structur associ p pr th cortex strip help water miner perlcyc e absorpt mycorrhiza figur symplast apoplast pathway symbiot associ fungu root system fungal root water ion absorpt movement']"
      ]
     },
     "execution_count": 81,
     "metadata": {},
     "output_type": "execute_result"
    }
   ],
   "source": [
    "X_the_cleanest = ApplyStemmer(porter).transform(X_clean)\n",
    "X_the_cleanest"
   ]
  }
 ],
 "metadata": {
  "kernelspec": {
   "display_name": "Python 3",
   "language": "python",
   "name": "python3"
  },
  "language_info": {
   "codemirror_mode": {
    "name": "ipython",
    "version": 3
   },
   "file_extension": ".py",
   "mimetype": "text/x-python",
   "name": "python",
   "nbconvert_exporter": "python",
   "pygments_lexer": "ipython3",
   "version": "3.8.9"
  }
 },
 "nbformat": 4,
 "nbformat_minor": 5
}
